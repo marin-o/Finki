{
  "nbformat": 4,
  "nbformat_minor": 0,
  "metadata": {
    "colab": {
      "provenance": [],
      "gpuType": "T4"
    },
    "kernelspec": {
      "name": "python3",
      "display_name": "Python 3"
    },
    "language_info": {
      "name": "python"
    },
    "accelerator": "GPU"
  },
  "cells": [
    {
      "cell_type": "code",
      "source": [
        "import torch\n",
        "import numpy as np\n",
        "import pandas as pd\n",
        "from sklearn.model_selection import train_test_split\n",
        "from sklearn.preprocessing import LabelEncoder\n",
        "from transformers import DistilBertTokenizer, DistilBertForSequenceClassification\n",
        "from torch.utils.data import DataLoader, TensorDataset\n",
        "from torch.optim import AdamW\n",
        "from sklearn.metrics import accuracy_score\n",
        "import nltk\n",
        "from sklearn.metrics import precision_score, recall_score, f1_score, accuracy_score\n",
        "\n",
        "nltk.download('punkt')"
      ],
      "metadata": {
        "colab": {
          "base_uri": "https://localhost:8080/"
        },
        "id": "FlESDMrGIfg_",
        "outputId": "6bea619d-473b-4b73-9bac-49bf93dbad23"
      },
      "execution_count": 1,
      "outputs": [
        {
          "output_type": "stream",
          "name": "stderr",
          "text": [
            "[nltk_data] Downloading package punkt to /root/nltk_data...\n",
            "[nltk_data]   Package punkt is already up-to-date!\n"
          ]
        },
        {
          "output_type": "execute_result",
          "data": {
            "text/plain": [
              "True"
            ]
          },
          "metadata": {},
          "execution_count": 1
        }
      ]
    },
    {
      "cell_type": "code",
      "source": [
        "train = pd.read_csv('train_en.txt', sep='\\t')\n",
        "test = pd.read_csv('test_en.txt', sep='\\t')"
      ],
      "metadata": {
        "id": "FQkk3hzXIiDk"
      },
      "execution_count": 2,
      "outputs": []
    },
    {
      "cell_type": "code",
      "source": [
        "tokenizer = DistilBertTokenizer.from_pretrained('distilbert-base-uncased')"
      ],
      "metadata": {
        "colab": {
          "base_uri": "https://localhost:8080/"
        },
        "id": "TF1zLymxIisn",
        "outputId": "06f0b736-ad57-4a71-a97f-e8e0a0205a46"
      },
      "execution_count": 3,
      "outputs": [
        {
          "output_type": "stream",
          "name": "stderr",
          "text": [
            "/usr/local/lib/python3.10/dist-packages/huggingface_hub/utils/_token.py:89: UserWarning: \n",
            "The secret `HF_TOKEN` does not exist in your Colab secrets.\n",
            "To authenticate with the Hugging Face Hub, create a token in your settings tab (https://huggingface.co/settings/tokens), set it as secret in your Google Colab and restart your session.\n",
            "You will be able to reuse this secret in all of your notebooks.\n",
            "Please note that authentication is recommended but still optional to access public models or datasets.\n",
            "  warnings.warn(\n",
            "/usr/local/lib/python3.10/dist-packages/transformers/tokenization_utils_base.py:1601: FutureWarning: `clean_up_tokenization_spaces` was not set. It will be set to `True` by default. This behavior will be depracted in transformers v4.45, and will be then set to `False` by default. For more details check this issue: https://github.com/huggingface/transformers/issues/31884\n",
            "  warnings.warn(\n"
          ]
        }
      ]
    },
    {
      "cell_type": "code",
      "source": [
        "sentences = train['Sentence'].values.tolist()\n",
        "labels = train['Style'].values.tolist()\n",
        "\n",
        "train_encodings = tokenizer(\n",
        "    sentences,\n",
        "    max_length=15,\n",
        "    truncation=True,\n",
        "    padding='max_length',\n",
        "    return_tensors='pt',\n",
        "    return_attention_mask=True\n",
        ")\n",
        "\n",
        "train_input_ids = train_encodings['input_ids']\n",
        "train_attention_masks = train_encodings['attention_mask']"
      ],
      "metadata": {
        "id": "Q3Wp4PYNIjh5"
      },
      "execution_count": 4,
      "outputs": []
    },
    {
      "cell_type": "code",
      "source": [
        "label_encoder = LabelEncoder()\n",
        "encoded_labels = label_encoder.fit_transform(labels)"
      ],
      "metadata": {
        "id": "jkNpyCCYIlXY"
      },
      "execution_count": 5,
      "outputs": []
    },
    {
      "cell_type": "code",
      "source": [
        "encoded_labels = torch.tensor(encoded_labels)"
      ],
      "metadata": {
        "id": "WSfBMtfVIn5m"
      },
      "execution_count": 6,
      "outputs": []
    },
    {
      "cell_type": "code",
      "source": [
        "train_dataset = TensorDataset(train_input_ids, train_attention_masks, encoded_labels)\n",
        "train_dataloader = DataLoader(train_dataset, batch_size=128, shuffle=True)"
      ],
      "metadata": {
        "id": "cIV-8t1fIpZT"
      },
      "execution_count": 7,
      "outputs": []
    },
    {
      "cell_type": "code",
      "source": [
        "model = DistilBertForSequenceClassification.from_pretrained('distilbert-base-uncased', num_labels=2)"
      ],
      "metadata": {
        "colab": {
          "base_uri": "https://localhost:8080/"
        },
        "id": "M-98caOAIqFF",
        "outputId": "aa9e66c8-bf92-49a0-e7f5-8d871892d891"
      },
      "execution_count": 8,
      "outputs": [
        {
          "output_type": "stream",
          "name": "stderr",
          "text": [
            "Some weights of DistilBertForSequenceClassification were not initialized from the model checkpoint at distilbert-base-uncased and are newly initialized: ['classifier.bias', 'classifier.weight', 'pre_classifier.bias', 'pre_classifier.weight']\n",
            "You should probably TRAIN this model on a down-stream task to be able to use it for predictions and inference.\n"
          ]
        }
      ]
    },
    {
      "cell_type": "code",
      "source": [
        "device = torch.device('cuda' if torch.cuda.is_available() else 'cpu')\n",
        "model.to(device)"
      ],
      "metadata": {
        "colab": {
          "base_uri": "https://localhost:8080/"
        },
        "id": "IOvjE4poIrI4",
        "outputId": "180602c6-1b70-485d-cb5d-e8304efbf4bc"
      },
      "execution_count": 9,
      "outputs": [
        {
          "output_type": "execute_result",
          "data": {
            "text/plain": [
              "DistilBertForSequenceClassification(\n",
              "  (distilbert): DistilBertModel(\n",
              "    (embeddings): Embeddings(\n",
              "      (word_embeddings): Embedding(30522, 768, padding_idx=0)\n",
              "      (position_embeddings): Embedding(512, 768)\n",
              "      (LayerNorm): LayerNorm((768,), eps=1e-12, elementwise_affine=True)\n",
              "      (dropout): Dropout(p=0.1, inplace=False)\n",
              "    )\n",
              "    (transformer): Transformer(\n",
              "      (layer): ModuleList(\n",
              "        (0-5): 6 x TransformerBlock(\n",
              "          (attention): MultiHeadSelfAttention(\n",
              "            (dropout): Dropout(p=0.1, inplace=False)\n",
              "            (q_lin): Linear(in_features=768, out_features=768, bias=True)\n",
              "            (k_lin): Linear(in_features=768, out_features=768, bias=True)\n",
              "            (v_lin): Linear(in_features=768, out_features=768, bias=True)\n",
              "            (out_lin): Linear(in_features=768, out_features=768, bias=True)\n",
              "          )\n",
              "          (sa_layer_norm): LayerNorm((768,), eps=1e-12, elementwise_affine=True)\n",
              "          (ffn): FFN(\n",
              "            (dropout): Dropout(p=0.1, inplace=False)\n",
              "            (lin1): Linear(in_features=768, out_features=3072, bias=True)\n",
              "            (lin2): Linear(in_features=3072, out_features=768, bias=True)\n",
              "            (activation): GELUActivation()\n",
              "          )\n",
              "          (output_layer_norm): LayerNorm((768,), eps=1e-12, elementwise_affine=True)\n",
              "        )\n",
              "      )\n",
              "    )\n",
              "  )\n",
              "  (pre_classifier): Linear(in_features=768, out_features=768, bias=True)\n",
              "  (classifier): Linear(in_features=768, out_features=2, bias=True)\n",
              "  (dropout): Dropout(p=0.2, inplace=False)\n",
              ")"
            ]
          },
          "metadata": {},
          "execution_count": 9
        }
      ]
    },
    {
      "cell_type": "code",
      "source": [
        "optimizer = AdamW(model.parameters(), lr=0.0001, weight_decay=0.0005)"
      ],
      "metadata": {
        "id": "uhVABsWFIr4M"
      },
      "execution_count": 10,
      "outputs": []
    },
    {
      "cell_type": "code",
      "source": [
        "from tqdm import tqdm\n",
        "\n",
        "epochs = 50\n",
        "for epoch in range(epochs):\n",
        "    model.train()\n",
        "    running_loss = 0.0\n",
        "    correct_predictions = 0\n",
        "    total_predictions = 0\n",
        "\n",
        "    progress_bar = tqdm(train_dataloader, desc=f\"Epoch {epoch+1}/{epochs}\", dynamic_ncols=True)\n",
        "\n",
        "    for batch in progress_bar:\n",
        "        input_ids, attention_mask, labels = batch\n",
        "        input_ids = input_ids.to(device)\n",
        "        attention_mask = attention_mask.to(device)\n",
        "        labels = labels.to(device)\n",
        "\n",
        "\n",
        "        optimizer.zero_grad()\n",
        "\n",
        "\n",
        "        outputs = model(input_ids=input_ids, attention_mask=attention_mask, labels=labels)\n",
        "        loss = outputs.loss\n",
        "        logits = outputs.logits\n",
        "\n",
        "\n",
        "        loss.backward()\n",
        "        optimizer.step()\n",
        "\n",
        "\n",
        "        _, preds = torch.max(logits, dim=1)\n",
        "        correct_predictions += torch.sum(preds == labels)\n",
        "        total_predictions += labels.size(0)\n",
        "\n",
        "\n",
        "        progress_bar.set_postfix(loss=loss.item(), accuracy=correct_predictions/total_predictions)\n",
        "\n",
        "        running_loss += loss.item()\n",
        "\n",
        "\n",
        "    avg_loss = running_loss / len(train_dataloader)\n",
        "    accuracy = correct_predictions / total_predictions\n",
        "\n",
        "\n",
        "    print(f\"Epoch {epoch + 1}/{epochs} - Loss: {avg_loss:.4f} - Accuracy: {accuracy:.4f}\")\n"
      ],
      "metadata": {
        "colab": {
          "base_uri": "https://localhost:8080/"
        },
        "id": "nkBFNZN1IuOD",
        "outputId": "ae081d17-3de2-44c5-8fe5-ccdcbaeadf6e"
      },
      "execution_count": 11,
      "outputs": [
        {
          "output_type": "stream",
          "name": "stderr",
          "text": [
            "Epoch 1/50: 100%|██████████| 196/196 [00:33<00:00,  5.88it/s, accuracy=tensor(0.9015, device='cuda:0'), loss=0.112]\n"
          ]
        },
        {
          "output_type": "stream",
          "name": "stdout",
          "text": [
            "Epoch 1/50 - Loss: 0.2290 - Accuracy: 0.9015\n"
          ]
        },
        {
          "output_type": "stream",
          "name": "stderr",
          "text": [
            "Epoch 2/50: 100%|██████████| 196/196 [00:32<00:00,  6.04it/s, accuracy=tensor(0.9306, device='cuda:0'), loss=0.181]\n"
          ]
        },
        {
          "output_type": "stream",
          "name": "stdout",
          "text": [
            "Epoch 2/50 - Loss: 0.1495 - Accuracy: 0.9306\n"
          ]
        },
        {
          "output_type": "stream",
          "name": "stderr",
          "text": [
            "Epoch 3/50: 100%|██████████| 196/196 [00:33<00:00,  5.90it/s, accuracy=tensor(0.9406, device='cuda:0'), loss=0.0797]\n"
          ]
        },
        {
          "output_type": "stream",
          "name": "stdout",
          "text": [
            "Epoch 3/50 - Loss: 0.1217 - Accuracy: 0.9406\n"
          ]
        },
        {
          "output_type": "stream",
          "name": "stderr",
          "text": [
            "Epoch 4/50: 100%|██████████| 196/196 [00:33<00:00,  5.81it/s, accuracy=tensor(0.9491, device='cuda:0'), loss=0.0648]\n"
          ]
        },
        {
          "output_type": "stream",
          "name": "stdout",
          "text": [
            "Epoch 4/50 - Loss: 0.1014 - Accuracy: 0.9491\n"
          ]
        },
        {
          "output_type": "stream",
          "name": "stderr",
          "text": [
            "Epoch 5/50: 100%|██████████| 196/196 [00:33<00:00,  5.90it/s, accuracy=tensor(0.9533, device='cuda:0'), loss=0.0673]\n"
          ]
        },
        {
          "output_type": "stream",
          "name": "stdout",
          "text": [
            "Epoch 5/50 - Loss: 0.0877 - Accuracy: 0.9533\n"
          ]
        },
        {
          "output_type": "stream",
          "name": "stderr",
          "text": [
            "Epoch 6/50: 100%|██████████| 196/196 [00:33<00:00,  5.83it/s, accuracy=tensor(0.9567, device='cuda:0'), loss=0.11]\n"
          ]
        },
        {
          "output_type": "stream",
          "name": "stdout",
          "text": [
            "Epoch 6/50 - Loss: 0.0821 - Accuracy: 0.9567\n"
          ]
        },
        {
          "output_type": "stream",
          "name": "stderr",
          "text": [
            "Epoch 7/50: 100%|██████████| 196/196 [00:34<00:00,  5.71it/s, accuracy=tensor(0.9623, device='cuda:0'), loss=0.0614]\n"
          ]
        },
        {
          "output_type": "stream",
          "name": "stdout",
          "text": [
            "Epoch 7/50 - Loss: 0.0723 - Accuracy: 0.9623\n"
          ]
        },
        {
          "output_type": "stream",
          "name": "stderr",
          "text": [
            "Epoch 8/50: 100%|██████████| 196/196 [00:34<00:00,  5.72it/s, accuracy=tensor(0.9624, device='cuda:0'), loss=0.046]\n"
          ]
        },
        {
          "output_type": "stream",
          "name": "stdout",
          "text": [
            "Epoch 8/50 - Loss: 0.0670 - Accuracy: 0.9624\n"
          ]
        },
        {
          "output_type": "stream",
          "name": "stderr",
          "text": [
            "Epoch 9/50: 100%|██████████| 196/196 [00:33<00:00,  5.77it/s, accuracy=tensor(0.9635, device='cuda:0'), loss=0.0402]\n"
          ]
        },
        {
          "output_type": "stream",
          "name": "stdout",
          "text": [
            "Epoch 9/50 - Loss: 0.0668 - Accuracy: 0.9635\n"
          ]
        },
        {
          "output_type": "stream",
          "name": "stderr",
          "text": [
            "Epoch 10/50: 100%|██████████| 196/196 [00:34<00:00,  5.70it/s, accuracy=tensor(0.9647, device='cuda:0'), loss=0.0445]\n"
          ]
        },
        {
          "output_type": "stream",
          "name": "stdout",
          "text": [
            "Epoch 10/50 - Loss: 0.0616 - Accuracy: 0.9647\n"
          ]
        },
        {
          "output_type": "stream",
          "name": "stderr",
          "text": [
            "Epoch 11/50: 100%|██████████| 196/196 [00:34<00:00,  5.73it/s, accuracy=tensor(0.9654, device='cuda:0'), loss=0.0314]\n"
          ]
        },
        {
          "output_type": "stream",
          "name": "stdout",
          "text": [
            "Epoch 11/50 - Loss: 0.0589 - Accuracy: 0.9654\n"
          ]
        },
        {
          "output_type": "stream",
          "name": "stderr",
          "text": [
            "Epoch 12/50: 100%|██████████| 196/196 [00:34<00:00,  5.73it/s, accuracy=tensor(0.9657, device='cuda:0'), loss=0.0395]\n"
          ]
        },
        {
          "output_type": "stream",
          "name": "stdout",
          "text": [
            "Epoch 12/50 - Loss: 0.0603 - Accuracy: 0.9657\n"
          ]
        },
        {
          "output_type": "stream",
          "name": "stderr",
          "text": [
            "Epoch 13/50: 100%|██████████| 196/196 [00:34<00:00,  5.73it/s, accuracy=tensor(0.9667, device='cuda:0'), loss=0.044]\n"
          ]
        },
        {
          "output_type": "stream",
          "name": "stdout",
          "text": [
            "Epoch 13/50 - Loss: 0.0584 - Accuracy: 0.9667\n"
          ]
        },
        {
          "output_type": "stream",
          "name": "stderr",
          "text": [
            "Epoch 14/50: 100%|██████████| 196/196 [00:34<00:00,  5.74it/s, accuracy=tensor(0.9661, device='cuda:0'), loss=0.0466]\n"
          ]
        },
        {
          "output_type": "stream",
          "name": "stdout",
          "text": [
            "Epoch 14/50 - Loss: 0.0578 - Accuracy: 0.9661\n"
          ]
        },
        {
          "output_type": "stream",
          "name": "stderr",
          "text": [
            "Epoch 15/50: 100%|██████████| 196/196 [00:34<00:00,  5.74it/s, accuracy=tensor(0.9668, device='cuda:0'), loss=0.0566]\n"
          ]
        },
        {
          "output_type": "stream",
          "name": "stdout",
          "text": [
            "Epoch 15/50 - Loss: 0.0574 - Accuracy: 0.9668\n"
          ]
        },
        {
          "output_type": "stream",
          "name": "stderr",
          "text": [
            "Epoch 16/50: 100%|██████████| 196/196 [00:34<00:00,  5.70it/s, accuracy=tensor(0.9670, device='cuda:0'), loss=0.051]\n"
          ]
        },
        {
          "output_type": "stream",
          "name": "stdout",
          "text": [
            "Epoch 16/50 - Loss: 0.0590 - Accuracy: 0.9670\n"
          ]
        },
        {
          "output_type": "stream",
          "name": "stderr",
          "text": [
            "Epoch 17/50: 100%|██████████| 196/196 [00:34<00:00,  5.73it/s, accuracy=tensor(0.9678, device='cuda:0'), loss=0.0753]\n"
          ]
        },
        {
          "output_type": "stream",
          "name": "stdout",
          "text": [
            "Epoch 17/50 - Loss: 0.0544 - Accuracy: 0.9678\n"
          ]
        },
        {
          "output_type": "stream",
          "name": "stderr",
          "text": [
            "Epoch 18/50: 100%|██████████| 196/196 [00:34<00:00,  5.72it/s, accuracy=tensor(0.9687, device='cuda:0'), loss=0.0522]\n"
          ]
        },
        {
          "output_type": "stream",
          "name": "stdout",
          "text": [
            "Epoch 18/50 - Loss: 0.0500 - Accuracy: 0.9687\n"
          ]
        },
        {
          "output_type": "stream",
          "name": "stderr",
          "text": [
            "Epoch 19/50: 100%|██████████| 196/196 [00:34<00:00,  5.74it/s, accuracy=tensor(0.9689, device='cuda:0'), loss=0.0519]\n"
          ]
        },
        {
          "output_type": "stream",
          "name": "stdout",
          "text": [
            "Epoch 19/50 - Loss: 0.0519 - Accuracy: 0.9689\n"
          ]
        },
        {
          "output_type": "stream",
          "name": "stderr",
          "text": [
            "Epoch 20/50: 100%|██████████| 196/196 [00:34<00:00,  5.71it/s, accuracy=tensor(0.9681, device='cuda:0'), loss=0.0354]\n"
          ]
        },
        {
          "output_type": "stream",
          "name": "stdout",
          "text": [
            "Epoch 20/50 - Loss: 0.0517 - Accuracy: 0.9681\n"
          ]
        },
        {
          "output_type": "stream",
          "name": "stderr",
          "text": [
            "Epoch 21/50: 100%|██████████| 196/196 [00:34<00:00,  5.73it/s, accuracy=tensor(0.9678, device='cuda:0'), loss=0.0439]\n"
          ]
        },
        {
          "output_type": "stream",
          "name": "stdout",
          "text": [
            "Epoch 21/50 - Loss: 0.0513 - Accuracy: 0.9678\n"
          ]
        },
        {
          "output_type": "stream",
          "name": "stderr",
          "text": [
            "Epoch 22/50: 100%|██████████| 196/196 [00:34<00:00,  5.75it/s, accuracy=tensor(0.9678, device='cuda:0'), loss=0.0441]\n"
          ]
        },
        {
          "output_type": "stream",
          "name": "stdout",
          "text": [
            "Epoch 22/50 - Loss: 0.0534 - Accuracy: 0.9678\n"
          ]
        },
        {
          "output_type": "stream",
          "name": "stderr",
          "text": [
            "Epoch 23/50: 100%|██████████| 196/196 [00:34<00:00,  5.74it/s, accuracy=tensor(0.9672, device='cuda:0'), loss=0.135]\n"
          ]
        },
        {
          "output_type": "stream",
          "name": "stdout",
          "text": [
            "Epoch 23/50 - Loss: 0.0535 - Accuracy: 0.9672\n"
          ]
        },
        {
          "output_type": "stream",
          "name": "stderr",
          "text": [
            "Epoch 24/50: 100%|██████████| 196/196 [00:34<00:00,  5.73it/s, accuracy=tensor(0.9685, device='cuda:0'), loss=0.071]\n"
          ]
        },
        {
          "output_type": "stream",
          "name": "stdout",
          "text": [
            "Epoch 24/50 - Loss: 0.0535 - Accuracy: 0.9685\n"
          ]
        },
        {
          "output_type": "stream",
          "name": "stderr",
          "text": [
            "Epoch 25/50: 100%|██████████| 196/196 [00:34<00:00,  5.71it/s, accuracy=tensor(0.9689, device='cuda:0'), loss=0.0449]\n"
          ]
        },
        {
          "output_type": "stream",
          "name": "stdout",
          "text": [
            "Epoch 25/50 - Loss: 0.0533 - Accuracy: 0.9689\n"
          ]
        },
        {
          "output_type": "stream",
          "name": "stderr",
          "text": [
            "Epoch 26/50: 100%|██████████| 196/196 [00:34<00:00,  5.74it/s, accuracy=tensor(0.9681, device='cuda:0'), loss=0.0666]\n"
          ]
        },
        {
          "output_type": "stream",
          "name": "stdout",
          "text": [
            "Epoch 26/50 - Loss: 0.0520 - Accuracy: 0.9681\n"
          ]
        },
        {
          "output_type": "stream",
          "name": "stderr",
          "text": [
            "Epoch 27/50: 100%|██████████| 196/196 [00:34<00:00,  5.75it/s, accuracy=tensor(0.9678, device='cuda:0'), loss=0.0407]\n"
          ]
        },
        {
          "output_type": "stream",
          "name": "stdout",
          "text": [
            "Epoch 27/50 - Loss: 0.0516 - Accuracy: 0.9678\n"
          ]
        },
        {
          "output_type": "stream",
          "name": "stderr",
          "text": [
            "Epoch 28/50: 100%|██████████| 196/196 [00:34<00:00,  5.75it/s, accuracy=tensor(0.9686, device='cuda:0'), loss=0.029]\n"
          ]
        },
        {
          "output_type": "stream",
          "name": "stdout",
          "text": [
            "Epoch 28/50 - Loss: 0.0525 - Accuracy: 0.9686\n"
          ]
        },
        {
          "output_type": "stream",
          "name": "stderr",
          "text": [
            "Epoch 29/50: 100%|██████████| 196/196 [00:34<00:00,  5.75it/s, accuracy=tensor(0.9685, device='cuda:0'), loss=0.0471]\n"
          ]
        },
        {
          "output_type": "stream",
          "name": "stdout",
          "text": [
            "Epoch 29/50 - Loss: 0.0509 - Accuracy: 0.9685\n"
          ]
        },
        {
          "output_type": "stream",
          "name": "stderr",
          "text": [
            "Epoch 30/50: 100%|██████████| 196/196 [00:34<00:00,  5.74it/s, accuracy=tensor(0.9700, device='cuda:0'), loss=0.0573]\n"
          ]
        },
        {
          "output_type": "stream",
          "name": "stdout",
          "text": [
            "Epoch 30/50 - Loss: 0.0512 - Accuracy: 0.9700\n"
          ]
        },
        {
          "output_type": "stream",
          "name": "stderr",
          "text": [
            "Epoch 31/50: 100%|██████████| 196/196 [00:34<00:00,  5.74it/s, accuracy=tensor(0.9690, device='cuda:0'), loss=0.0423]\n"
          ]
        },
        {
          "output_type": "stream",
          "name": "stdout",
          "text": [
            "Epoch 31/50 - Loss: 0.0496 - Accuracy: 0.9690\n"
          ]
        },
        {
          "output_type": "stream",
          "name": "stderr",
          "text": [
            "Epoch 32/50: 100%|██████████| 196/196 [00:34<00:00,  5.71it/s, accuracy=tensor(0.9698, device='cuda:0'), loss=0.0148]\n"
          ]
        },
        {
          "output_type": "stream",
          "name": "stdout",
          "text": [
            "Epoch 32/50 - Loss: 0.0488 - Accuracy: 0.9698\n"
          ]
        },
        {
          "output_type": "stream",
          "name": "stderr",
          "text": [
            "Epoch 33/50: 100%|██████████| 196/196 [00:34<00:00,  5.76it/s, accuracy=tensor(0.9694, device='cuda:0'), loss=0.0575]\n"
          ]
        },
        {
          "output_type": "stream",
          "name": "stdout",
          "text": [
            "Epoch 33/50 - Loss: 0.0502 - Accuracy: 0.9694\n"
          ]
        },
        {
          "output_type": "stream",
          "name": "stderr",
          "text": [
            "Epoch 34/50: 100%|██████████| 196/196 [00:34<00:00,  5.69it/s, accuracy=tensor(0.9696, device='cuda:0'), loss=0.0348]\n"
          ]
        },
        {
          "output_type": "stream",
          "name": "stdout",
          "text": [
            "Epoch 34/50 - Loss: 0.0475 - Accuracy: 0.9696\n"
          ]
        },
        {
          "output_type": "stream",
          "name": "stderr",
          "text": [
            "Epoch 35/50: 100%|██████████| 196/196 [00:34<00:00,  5.72it/s, accuracy=tensor(0.9700, device='cuda:0'), loss=0.0555]\n"
          ]
        },
        {
          "output_type": "stream",
          "name": "stdout",
          "text": [
            "Epoch 35/50 - Loss: 0.0505 - Accuracy: 0.9700\n"
          ]
        },
        {
          "output_type": "stream",
          "name": "stderr",
          "text": [
            "Epoch 36/50: 100%|██████████| 196/196 [00:34<00:00,  5.75it/s, accuracy=tensor(0.9699, device='cuda:0'), loss=0.0179]\n"
          ]
        },
        {
          "output_type": "stream",
          "name": "stdout",
          "text": [
            "Epoch 36/50 - Loss: 0.0479 - Accuracy: 0.9699\n"
          ]
        },
        {
          "output_type": "stream",
          "name": "stderr",
          "text": [
            "Epoch 37/50: 100%|██████████| 196/196 [00:34<00:00,  5.75it/s, accuracy=tensor(0.9702, device='cuda:0'), loss=0.0709]\n"
          ]
        },
        {
          "output_type": "stream",
          "name": "stdout",
          "text": [
            "Epoch 37/50 - Loss: 0.0502 - Accuracy: 0.9702\n"
          ]
        },
        {
          "output_type": "stream",
          "name": "stderr",
          "text": [
            "Epoch 38/50: 100%|██████████| 196/196 [00:34<00:00,  5.74it/s, accuracy=tensor(0.9692, device='cuda:0'), loss=0.0844]\n"
          ]
        },
        {
          "output_type": "stream",
          "name": "stdout",
          "text": [
            "Epoch 38/50 - Loss: 0.0493 - Accuracy: 0.9692\n"
          ]
        },
        {
          "output_type": "stream",
          "name": "stderr",
          "text": [
            "Epoch 39/50: 100%|██████████| 196/196 [00:34<00:00,  5.74it/s, accuracy=tensor(0.9689, device='cuda:0'), loss=0.028]\n"
          ]
        },
        {
          "output_type": "stream",
          "name": "stdout",
          "text": [
            "Epoch 39/50 - Loss: 0.0500 - Accuracy: 0.9689\n"
          ]
        },
        {
          "output_type": "stream",
          "name": "stderr",
          "text": [
            "Epoch 40/50: 100%|██████████| 196/196 [00:34<00:00,  5.74it/s, accuracy=tensor(0.9687, device='cuda:0'), loss=0.0254]\n"
          ]
        },
        {
          "output_type": "stream",
          "name": "stdout",
          "text": [
            "Epoch 40/50 - Loss: 0.0506 - Accuracy: 0.9687\n"
          ]
        },
        {
          "output_type": "stream",
          "name": "stderr",
          "text": [
            "Epoch 41/50: 100%|██████████| 196/196 [00:34<00:00,  5.74it/s, accuracy=tensor(0.9681, device='cuda:0'), loss=0.0344]\n"
          ]
        },
        {
          "output_type": "stream",
          "name": "stdout",
          "text": [
            "Epoch 41/50 - Loss: 0.0535 - Accuracy: 0.9681\n"
          ]
        },
        {
          "output_type": "stream",
          "name": "stderr",
          "text": [
            "Epoch 42/50: 100%|██████████| 196/196 [00:34<00:00,  5.75it/s, accuracy=tensor(0.9692, device='cuda:0'), loss=0.043]\n"
          ]
        },
        {
          "output_type": "stream",
          "name": "stdout",
          "text": [
            "Epoch 42/50 - Loss: 0.0488 - Accuracy: 0.9692\n"
          ]
        },
        {
          "output_type": "stream",
          "name": "stderr",
          "text": [
            "Epoch 43/50: 100%|██████████| 196/196 [00:34<00:00,  5.71it/s, accuracy=tensor(0.9705, device='cuda:0'), loss=0.0255]\n"
          ]
        },
        {
          "output_type": "stream",
          "name": "stdout",
          "text": [
            "Epoch 43/50 - Loss: 0.0463 - Accuracy: 0.9705\n"
          ]
        },
        {
          "output_type": "stream",
          "name": "stderr",
          "text": [
            "Epoch 44/50: 100%|██████████| 196/196 [00:34<00:00,  5.75it/s, accuracy=tensor(0.9705, device='cuda:0'), loss=0.063]\n"
          ]
        },
        {
          "output_type": "stream",
          "name": "stdout",
          "text": [
            "Epoch 44/50 - Loss: 0.0465 - Accuracy: 0.9705\n"
          ]
        },
        {
          "output_type": "stream",
          "name": "stderr",
          "text": [
            "Epoch 45/50: 100%|██████████| 196/196 [00:34<00:00,  5.74it/s, accuracy=tensor(0.9694, device='cuda:0'), loss=0.0354]\n"
          ]
        },
        {
          "output_type": "stream",
          "name": "stdout",
          "text": [
            "Epoch 45/50 - Loss: 0.0479 - Accuracy: 0.9694\n"
          ]
        },
        {
          "output_type": "stream",
          "name": "stderr",
          "text": [
            "Epoch 46/50: 100%|██████████| 196/196 [00:34<00:00,  5.72it/s, accuracy=tensor(0.9700, device='cuda:0'), loss=0.0296]\n"
          ]
        },
        {
          "output_type": "stream",
          "name": "stdout",
          "text": [
            "Epoch 46/50 - Loss: 0.0481 - Accuracy: 0.9700\n"
          ]
        },
        {
          "output_type": "stream",
          "name": "stderr",
          "text": [
            "Epoch 47/50: 100%|██████████| 196/196 [00:34<00:00,  5.76it/s, accuracy=tensor(0.9699, device='cuda:0'), loss=0.0268]\n"
          ]
        },
        {
          "output_type": "stream",
          "name": "stdout",
          "text": [
            "Epoch 47/50 - Loss: 0.0474 - Accuracy: 0.9699\n"
          ]
        },
        {
          "output_type": "stream",
          "name": "stderr",
          "text": [
            "Epoch 48/50: 100%|██████████| 196/196 [00:34<00:00,  5.75it/s, accuracy=tensor(0.9706, device='cuda:0'), loss=0.0535]\n"
          ]
        },
        {
          "output_type": "stream",
          "name": "stdout",
          "text": [
            "Epoch 48/50 - Loss: 0.0463 - Accuracy: 0.9706\n"
          ]
        },
        {
          "output_type": "stream",
          "name": "stderr",
          "text": [
            "Epoch 49/50: 100%|██████████| 196/196 [00:34<00:00,  5.72it/s, accuracy=tensor(0.9693, device='cuda:0'), loss=0.0836]\n"
          ]
        },
        {
          "output_type": "stream",
          "name": "stdout",
          "text": [
            "Epoch 49/50 - Loss: 0.0510 - Accuracy: 0.9693\n"
          ]
        },
        {
          "output_type": "stream",
          "name": "stderr",
          "text": [
            "Epoch 50/50: 100%|██████████| 196/196 [00:34<00:00,  5.73it/s, accuracy=tensor(0.9690, device='cuda:0'), loss=0.132]"
          ]
        },
        {
          "output_type": "stream",
          "name": "stdout",
          "text": [
            "Epoch 50/50 - Loss: 0.0517 - Accuracy: 0.9690\n"
          ]
        },
        {
          "output_type": "stream",
          "name": "stderr",
          "text": [
            "\n"
          ]
        }
      ]
    },
    {
      "cell_type": "code",
      "source": [
        "model.eval()\n",
        "test_sentences = test['Sentence'].values.tolist()\n",
        "test_encodings = tokenizer(\n",
        "    test_sentences,\n",
        "    max_length=15,\n",
        "    truncation=True,\n",
        "    padding='max_length',\n",
        "    return_tensors='pt',\n",
        "    return_attention_mask=True\n",
        ")\n",
        "\n",
        "test_input_ids = test_encodings['input_ids']\n",
        "test_attention_masks = test_encodings['attention_mask']"
      ],
      "metadata": {
        "id": "Hoyba_ihIwSK"
      },
      "execution_count": 12,
      "outputs": []
    },
    {
      "cell_type": "code",
      "source": [
        "with torch.no_grad():\n",
        "    outputs = model(input_ids=test_input_ids.to(device), attention_mask=test_attention_masks.to(device))\n",
        "    logits = outputs.logits\n",
        "\n",
        "predictions = torch.argmax(logits, dim=1).cpu().numpy()\n",
        "\n",
        "true_labels = label_encoder.transform(test['Style'].values.tolist())\n",
        "\n",
        "\n",
        "d_accuracy = accuracy_score(true_labels, predictions)\n",
        "d_precision = precision_score(true_labels, predictions, average='weighted')\n",
        "d_recall = recall_score(true_labels, predictions, average='weighted')\n",
        "d_f1 = f1_score(true_labels, predictions, average='weighted')\n",
        "\n",
        "\n",
        "print(f\"Test Accuracy: {d_accuracy:.4f}\")\n",
        "print(f\"Test Precision: {d_precision:.4f}\")\n",
        "print(f\"Test Recall: {d_recall:.4f}\")\n",
        "print(f\"Test F1 Score: {d_f1:.4f}\")"
      ],
      "metadata": {
        "colab": {
          "base_uri": "https://localhost:8080/"
        },
        "id": "SORP6Q7FIxyz",
        "outputId": "5448ef32-99b2-49c9-8275-afd44da840a8"
      },
      "execution_count": 13,
      "outputs": [
        {
          "output_type": "stream",
          "name": "stdout",
          "text": [
            "Test Accuracy: 0.9112\n",
            "Test Precision: 0.9139\n",
            "Test Recall: 0.9112\n",
            "Test F1 Score: 0.9111\n"
          ]
        }
      ]
    },
    {
      "cell_type": "code",
      "source": [
        "from transformers import RobertaTokenizer, RobertaForSequenceClassification"
      ],
      "metadata": {
        "id": "1N01sqnSKvP9"
      },
      "execution_count": 14,
      "outputs": []
    },
    {
      "cell_type": "code",
      "source": [
        "tokenizer = RobertaTokenizer.from_pretrained('roberta-base')\n",
        "model = RobertaForSequenceClassification.from_pretrained('roberta-base', num_labels=2)"
      ],
      "metadata": {
        "colab": {
          "base_uri": "https://localhost:8080/"
        },
        "id": "GvEYno05G73u",
        "outputId": "523a5c5c-825f-402c-f984-65a596dc03c5"
      },
      "execution_count": 15,
      "outputs": [
        {
          "output_type": "stream",
          "name": "stderr",
          "text": [
            "/usr/local/lib/python3.10/dist-packages/transformers/tokenization_utils_base.py:1601: FutureWarning: `clean_up_tokenization_spaces` was not set. It will be set to `True` by default. This behavior will be depracted in transformers v4.45, and will be then set to `False` by default. For more details check this issue: https://github.com/huggingface/transformers/issues/31884\n",
            "  warnings.warn(\n",
            "Some weights of RobertaForSequenceClassification were not initialized from the model checkpoint at roberta-base and are newly initialized: ['classifier.dense.bias', 'classifier.dense.weight', 'classifier.out_proj.bias', 'classifier.out_proj.weight']\n",
            "You should probably TRAIN this model on a down-stream task to be able to use it for predictions and inference.\n"
          ]
        }
      ]
    },
    {
      "cell_type": "code",
      "source": [
        "sentences = train['Sentence'].values.tolist()\n",
        "labels = train['Style'].values.tolist()\n",
        "\n",
        "train_encodings = tokenizer(\n",
        "    sentences,\n",
        "    max_length=15,\n",
        "    truncation=True,\n",
        "    padding='max_length',\n",
        "    return_tensors='pt',\n",
        "    return_attention_mask=True\n",
        ")"
      ],
      "metadata": {
        "id": "_72w4ocoHHbb"
      },
      "execution_count": 16,
      "outputs": []
    },
    {
      "cell_type": "code",
      "source": [
        "label_encoder = LabelEncoder()\n",
        "encoded_labels = label_encoder.fit_transform(labels)\n",
        "encoded_labels = torch.tensor(encoded_labels)"
      ],
      "metadata": {
        "id": "1z5yGwFzK4EH"
      },
      "execution_count": 17,
      "outputs": []
    },
    {
      "cell_type": "code",
      "source": [
        "train_input_ids = train_encodings['input_ids']\n",
        "train_attention_masks = train_encodings['attention_mask']"
      ],
      "metadata": {
        "id": "5YcvQsIhHJMw"
      },
      "execution_count": 18,
      "outputs": []
    },
    {
      "cell_type": "code",
      "source": [
        "train_dataset = TensorDataset(train_input_ids, train_attention_masks, encoded_labels)\n",
        "train_dataloader = DataLoader(train_dataset, batch_size=128, shuffle=True)"
      ],
      "metadata": {
        "id": "Jp4UjkzDHMP-"
      },
      "execution_count": 19,
      "outputs": []
    },
    {
      "cell_type": "code",
      "source": [
        "device = torch.device('cuda' if torch.cuda.is_available() else 'cpu')\n",
        "model.to(device)"
      ],
      "metadata": {
        "colab": {
          "base_uri": "https://localhost:8080/"
        },
        "id": "xYNRhITnvrwo",
        "outputId": "c6d84a0c-0585-4b4a-aaaf-a9edc1d1f3a2"
      },
      "execution_count": 20,
      "outputs": [
        {
          "output_type": "execute_result",
          "data": {
            "text/plain": [
              "RobertaForSequenceClassification(\n",
              "  (roberta): RobertaModel(\n",
              "    (embeddings): RobertaEmbeddings(\n",
              "      (word_embeddings): Embedding(50265, 768, padding_idx=1)\n",
              "      (position_embeddings): Embedding(514, 768, padding_idx=1)\n",
              "      (token_type_embeddings): Embedding(1, 768)\n",
              "      (LayerNorm): LayerNorm((768,), eps=1e-05, elementwise_affine=True)\n",
              "      (dropout): Dropout(p=0.1, inplace=False)\n",
              "    )\n",
              "    (encoder): RobertaEncoder(\n",
              "      (layer): ModuleList(\n",
              "        (0-11): 12 x RobertaLayer(\n",
              "          (attention): RobertaAttention(\n",
              "            (self): RobertaSelfAttention(\n",
              "              (query): Linear(in_features=768, out_features=768, bias=True)\n",
              "              (key): Linear(in_features=768, out_features=768, bias=True)\n",
              "              (value): Linear(in_features=768, out_features=768, bias=True)\n",
              "              (dropout): Dropout(p=0.1, inplace=False)\n",
              "            )\n",
              "            (output): RobertaSelfOutput(\n",
              "              (dense): Linear(in_features=768, out_features=768, bias=True)\n",
              "              (LayerNorm): LayerNorm((768,), eps=1e-05, elementwise_affine=True)\n",
              "              (dropout): Dropout(p=0.1, inplace=False)\n",
              "            )\n",
              "          )\n",
              "          (intermediate): RobertaIntermediate(\n",
              "            (dense): Linear(in_features=768, out_features=3072, bias=True)\n",
              "            (intermediate_act_fn): GELUActivation()\n",
              "          )\n",
              "          (output): RobertaOutput(\n",
              "            (dense): Linear(in_features=3072, out_features=768, bias=True)\n",
              "            (LayerNorm): LayerNorm((768,), eps=1e-05, elementwise_affine=True)\n",
              "            (dropout): Dropout(p=0.1, inplace=False)\n",
              "          )\n",
              "        )\n",
              "      )\n",
              "    )\n",
              "  )\n",
              "  (classifier): RobertaClassificationHead(\n",
              "    (dense): Linear(in_features=768, out_features=768, bias=True)\n",
              "    (dropout): Dropout(p=0.1, inplace=False)\n",
              "    (out_proj): Linear(in_features=768, out_features=2, bias=True)\n",
              "  )\n",
              ")"
            ]
          },
          "metadata": {},
          "execution_count": 20
        }
      ]
    },
    {
      "cell_type": "code",
      "source": [
        "optimizer = AdamW(model.parameters(), lr=0.0001, weight_decay=0.0005)"
      ],
      "metadata": {
        "id": "oWHrGDzcK9lv"
      },
      "execution_count": 21,
      "outputs": []
    },
    {
      "cell_type": "code",
      "source": [
        "epochs = 50\n",
        "for epoch in range(epochs):\n",
        "    model.train()\n",
        "    running_loss = 0.0\n",
        "    correct_predictions = 0\n",
        "    total_predictions = 0\n",
        "\n",
        "    progress_bar = tqdm(train_dataloader, desc=f\"Epoch {epoch+1}/{epochs}\", dynamic_ncols=True)\n",
        "\n",
        "    for batch in progress_bar:\n",
        "        input_ids, attention_mask, labels = batch\n",
        "        input_ids = input_ids.to(device)\n",
        "        attention_mask = attention_mask.to(device)\n",
        "        labels = labels.to(device)\n",
        "\n",
        "        optimizer.zero_grad()\n",
        "\n",
        "        outputs = model(input_ids=input_ids, attention_mask=attention_mask, labels=labels)\n",
        "        loss = outputs.loss\n",
        "        logits = outputs.logits\n",
        "\n",
        "        loss.backward()\n",
        "        optimizer.step()\n",
        "\n",
        "\n",
        "        _, preds = torch.max(logits, dim=1)\n",
        "        correct_predictions += torch.sum(preds == labels)\n",
        "        total_predictions += labels.size(0)\n",
        "\n",
        "\n",
        "        progress_bar.set_postfix(loss=loss.item(), accuracy=correct_predictions/total_predictions)\n",
        "\n",
        "        running_loss += loss.item()\n",
        "\n",
        "\n",
        "    avg_loss = running_loss / len(train_dataloader)\n",
        "    accuracy = correct_predictions / total_predictions\n",
        "\n",
        "\n",
        "    print(f\"Epoch {epoch + 1}/{epochs} - Loss: {avg_loss:.4f} - Accuracy: {accuracy:.4f}\")\n",
        "\n"
      ],
      "metadata": {
        "colab": {
          "base_uri": "https://localhost:8080/"
        },
        "id": "0x5BqJbXHNgA",
        "outputId": "410736b1-1414-4d96-d9e8-0cd4b43ad948"
      },
      "execution_count": 22,
      "outputs": [
        {
          "output_type": "stream",
          "name": "stderr",
          "text": [
            "Epoch 1/50: 100%|██████████| 196/196 [01:08<00:00,  2.85it/s, accuracy=tensor(0.9077, device='cuda:0'), loss=0.249]\n"
          ]
        },
        {
          "output_type": "stream",
          "name": "stdout",
          "text": [
            "Epoch 1/50 - Loss: 0.1919 - Accuracy: 0.9077\n"
          ]
        },
        {
          "output_type": "stream",
          "name": "stderr",
          "text": [
            "Epoch 2/50: 100%|██████████| 196/196 [01:08<00:00,  2.86it/s, accuracy=tensor(0.9351, device='cuda:0'), loss=0.271]\n"
          ]
        },
        {
          "output_type": "stream",
          "name": "stdout",
          "text": [
            "Epoch 2/50 - Loss: 0.1288 - Accuracy: 0.9351\n"
          ]
        },
        {
          "output_type": "stream",
          "name": "stderr",
          "text": [
            "Epoch 3/50: 100%|██████████| 196/196 [01:08<00:00,  2.85it/s, accuracy=tensor(0.9413, device='cuda:0'), loss=0.17]\n"
          ]
        },
        {
          "output_type": "stream",
          "name": "stdout",
          "text": [
            "Epoch 3/50 - Loss: 0.1128 - Accuracy: 0.9413\n"
          ]
        },
        {
          "output_type": "stream",
          "name": "stderr",
          "text": [
            "Epoch 4/50: 100%|██████████| 196/196 [01:08<00:00,  2.86it/s, accuracy=tensor(0.9491, device='cuda:0'), loss=0.21]\n"
          ]
        },
        {
          "output_type": "stream",
          "name": "stdout",
          "text": [
            "Epoch 4/50 - Loss: 0.0996 - Accuracy: 0.9491\n"
          ]
        },
        {
          "output_type": "stream",
          "name": "stderr",
          "text": [
            "Epoch 5/50: 100%|██████████| 196/196 [01:08<00:00,  2.86it/s, accuracy=tensor(0.9543, device='cuda:0'), loss=0.103]\n"
          ]
        },
        {
          "output_type": "stream",
          "name": "stdout",
          "text": [
            "Epoch 5/50 - Loss: 0.0937 - Accuracy: 0.9543\n"
          ]
        },
        {
          "output_type": "stream",
          "name": "stderr",
          "text": [
            "Epoch 6/50: 100%|██████████| 196/196 [01:08<00:00,  2.86it/s, accuracy=tensor(0.9564, device='cuda:0'), loss=0.0433]\n"
          ]
        },
        {
          "output_type": "stream",
          "name": "stdout",
          "text": [
            "Epoch 6/50 - Loss: 0.0897 - Accuracy: 0.9564\n"
          ]
        },
        {
          "output_type": "stream",
          "name": "stderr",
          "text": [
            "Epoch 7/50: 100%|██████████| 196/196 [01:08<00:00,  2.86it/s, accuracy=tensor(0.9570, device='cuda:0'), loss=0.131]\n"
          ]
        },
        {
          "output_type": "stream",
          "name": "stdout",
          "text": [
            "Epoch 7/50 - Loss: 0.0899 - Accuracy: 0.9570\n"
          ]
        },
        {
          "output_type": "stream",
          "name": "stderr",
          "text": [
            "Epoch 8/50: 100%|██████████| 196/196 [01:08<00:00,  2.86it/s, accuracy=tensor(0.9565, device='cuda:0'), loss=0.129]\n"
          ]
        },
        {
          "output_type": "stream",
          "name": "stdout",
          "text": [
            "Epoch 8/50 - Loss: 0.0909 - Accuracy: 0.9565\n"
          ]
        },
        {
          "output_type": "stream",
          "name": "stderr",
          "text": [
            "Epoch 9/50: 100%|██████████| 196/196 [01:08<00:00,  2.86it/s, accuracy=tensor(0.9608, device='cuda:0'), loss=0.0768]\n"
          ]
        },
        {
          "output_type": "stream",
          "name": "stdout",
          "text": [
            "Epoch 9/50 - Loss: 0.0822 - Accuracy: 0.9608\n"
          ]
        },
        {
          "output_type": "stream",
          "name": "stderr",
          "text": [
            "Epoch 10/50: 100%|██████████| 196/196 [01:08<00:00,  2.85it/s, accuracy=tensor(0.9597, device='cuda:0'), loss=0.0743]\n"
          ]
        },
        {
          "output_type": "stream",
          "name": "stdout",
          "text": [
            "Epoch 10/50 - Loss: 0.0871 - Accuracy: 0.9597\n"
          ]
        },
        {
          "output_type": "stream",
          "name": "stderr",
          "text": [
            "Epoch 11/50: 100%|██████████| 196/196 [01:08<00:00,  2.86it/s, accuracy=tensor(0.9632, device='cuda:0'), loss=0.109]\n"
          ]
        },
        {
          "output_type": "stream",
          "name": "stdout",
          "text": [
            "Epoch 11/50 - Loss: 0.0776 - Accuracy: 0.9632\n"
          ]
        },
        {
          "output_type": "stream",
          "name": "stderr",
          "text": [
            "Epoch 12/50: 100%|██████████| 196/196 [01:09<00:00,  2.84it/s, accuracy=tensor(0.9631, device='cuda:0'), loss=0.0585]\n"
          ]
        },
        {
          "output_type": "stream",
          "name": "stdout",
          "text": [
            "Epoch 12/50 - Loss: 0.0791 - Accuracy: 0.9631\n"
          ]
        },
        {
          "output_type": "stream",
          "name": "stderr",
          "text": [
            "Epoch 13/50: 100%|██████████| 196/196 [01:08<00:00,  2.86it/s, accuracy=tensor(0.9698, device='cuda:0'), loss=0.0467]\n"
          ]
        },
        {
          "output_type": "stream",
          "name": "stdout",
          "text": [
            "Epoch 13/50 - Loss: 0.0639 - Accuracy: 0.9698\n"
          ]
        },
        {
          "output_type": "stream",
          "name": "stderr",
          "text": [
            "Epoch 14/50: 100%|██████████| 196/196 [01:08<00:00,  2.86it/s, accuracy=tensor(0.9698, device='cuda:0'), loss=0.0386]\n"
          ]
        },
        {
          "output_type": "stream",
          "name": "stdout",
          "text": [
            "Epoch 14/50 - Loss: 0.0658 - Accuracy: 0.9698\n"
          ]
        },
        {
          "output_type": "stream",
          "name": "stderr",
          "text": [
            "Epoch 15/50: 100%|██████████| 196/196 [01:08<00:00,  2.86it/s, accuracy=tensor(0.9721, device='cuda:0'), loss=0.0334]\n"
          ]
        },
        {
          "output_type": "stream",
          "name": "stdout",
          "text": [
            "Epoch 15/50 - Loss: 0.0583 - Accuracy: 0.9721\n"
          ]
        },
        {
          "output_type": "stream",
          "name": "stderr",
          "text": [
            "Epoch 16/50: 100%|██████████| 196/196 [01:08<00:00,  2.85it/s, accuracy=tensor(0.9723, device='cuda:0'), loss=0.0348]\n"
          ]
        },
        {
          "output_type": "stream",
          "name": "stdout",
          "text": [
            "Epoch 16/50 - Loss: 0.0597 - Accuracy: 0.9723\n"
          ]
        },
        {
          "output_type": "stream",
          "name": "stderr",
          "text": [
            "Epoch 17/50: 100%|██████████| 196/196 [01:08<00:00,  2.86it/s, accuracy=tensor(0.9715, device='cuda:0'), loss=0.0828]\n"
          ]
        },
        {
          "output_type": "stream",
          "name": "stdout",
          "text": [
            "Epoch 17/50 - Loss: 0.0615 - Accuracy: 0.9715\n"
          ]
        },
        {
          "output_type": "stream",
          "name": "stderr",
          "text": [
            "Epoch 18/50: 100%|██████████| 196/196 [01:08<00:00,  2.86it/s, accuracy=tensor(0.9727, device='cuda:0'), loss=0.195]\n"
          ]
        },
        {
          "output_type": "stream",
          "name": "stdout",
          "text": [
            "Epoch 18/50 - Loss: 0.0552 - Accuracy: 0.9727\n"
          ]
        },
        {
          "output_type": "stream",
          "name": "stderr",
          "text": [
            "Epoch 19/50: 100%|██████████| 196/196 [01:08<00:00,  2.86it/s, accuracy=tensor(0.9739, device='cuda:0'), loss=0.0931]\n"
          ]
        },
        {
          "output_type": "stream",
          "name": "stdout",
          "text": [
            "Epoch 19/50 - Loss: 0.0534 - Accuracy: 0.9739\n"
          ]
        },
        {
          "output_type": "stream",
          "name": "stderr",
          "text": [
            "Epoch 20/50: 100%|██████████| 196/196 [01:08<00:00,  2.87it/s, accuracy=tensor(0.9725, device='cuda:0'), loss=0.0263]\n"
          ]
        },
        {
          "output_type": "stream",
          "name": "stdout",
          "text": [
            "Epoch 20/50 - Loss: 0.0551 - Accuracy: 0.9725\n"
          ]
        },
        {
          "output_type": "stream",
          "name": "stderr",
          "text": [
            "Epoch 21/50: 100%|██████████| 196/196 [01:08<00:00,  2.85it/s, accuracy=tensor(0.9714, device='cuda:0'), loss=0.0466]\n"
          ]
        },
        {
          "output_type": "stream",
          "name": "stdout",
          "text": [
            "Epoch 21/50 - Loss: 0.0622 - Accuracy: 0.9714\n"
          ]
        },
        {
          "output_type": "stream",
          "name": "stderr",
          "text": [
            "Epoch 22/50: 100%|██████████| 196/196 [01:09<00:00,  2.84it/s, accuracy=tensor(0.9706, device='cuda:0'), loss=0.087]\n"
          ]
        },
        {
          "output_type": "stream",
          "name": "stdout",
          "text": [
            "Epoch 22/50 - Loss: 0.0640 - Accuracy: 0.9706\n"
          ]
        },
        {
          "output_type": "stream",
          "name": "stderr",
          "text": [
            "Epoch 23/50: 100%|██████████| 196/196 [01:08<00:00,  2.85it/s, accuracy=tensor(0.9729, device='cuda:0'), loss=0.128]\n"
          ]
        },
        {
          "output_type": "stream",
          "name": "stdout",
          "text": [
            "Epoch 23/50 - Loss: 0.0584 - Accuracy: 0.9729\n"
          ]
        },
        {
          "output_type": "stream",
          "name": "stderr",
          "text": [
            "Epoch 24/50: 100%|██████████| 196/196 [01:08<00:00,  2.87it/s, accuracy=tensor(0.6221, device='cuda:0'), loss=0.691]\n"
          ]
        },
        {
          "output_type": "stream",
          "name": "stdout",
          "text": [
            "Epoch 24/50 - Loss: 0.5621 - Accuracy: 0.6221\n"
          ]
        },
        {
          "output_type": "stream",
          "name": "stderr",
          "text": [
            "Epoch 25/50: 100%|██████████| 196/196 [01:08<00:00,  2.87it/s, accuracy=tensor(0.4985, device='cuda:0'), loss=0.702]\n"
          ]
        },
        {
          "output_type": "stream",
          "name": "stdout",
          "text": [
            "Epoch 25/50 - Loss: 0.6946 - Accuracy: 0.4985\n"
          ]
        },
        {
          "output_type": "stream",
          "name": "stderr",
          "text": [
            "Epoch 26/50: 100%|██████████| 196/196 [01:08<00:00,  2.87it/s, accuracy=tensor(0.4988, device='cuda:0'), loss=0.684]\n"
          ]
        },
        {
          "output_type": "stream",
          "name": "stdout",
          "text": [
            "Epoch 26/50 - Loss: 0.6940 - Accuracy: 0.4988\n"
          ]
        },
        {
          "output_type": "stream",
          "name": "stderr",
          "text": [
            "Epoch 27/50: 100%|██████████| 196/196 [01:08<00:00,  2.88it/s, accuracy=tensor(0.4957, device='cuda:0'), loss=0.694]\n"
          ]
        },
        {
          "output_type": "stream",
          "name": "stdout",
          "text": [
            "Epoch 27/50 - Loss: 0.6943 - Accuracy: 0.4957\n"
          ]
        },
        {
          "output_type": "stream",
          "name": "stderr",
          "text": [
            "Epoch 28/50: 100%|██████████| 196/196 [01:08<00:00,  2.87it/s, accuracy=tensor(0.5018, device='cuda:0'), loss=0.692]\n"
          ]
        },
        {
          "output_type": "stream",
          "name": "stdout",
          "text": [
            "Epoch 28/50 - Loss: 0.6941 - Accuracy: 0.5018\n"
          ]
        },
        {
          "output_type": "stream",
          "name": "stderr",
          "text": [
            "Epoch 29/50: 100%|██████████| 196/196 [01:08<00:00,  2.87it/s, accuracy=tensor(0.4944, device='cuda:0'), loss=0.695]\n"
          ]
        },
        {
          "output_type": "stream",
          "name": "stdout",
          "text": [
            "Epoch 29/50 - Loss: 0.6939 - Accuracy: 0.4944\n"
          ]
        },
        {
          "output_type": "stream",
          "name": "stderr",
          "text": [
            "Epoch 30/50: 100%|██████████| 196/196 [01:08<00:00,  2.87it/s, accuracy=tensor(0.4983, device='cuda:0'), loss=0.692]\n"
          ]
        },
        {
          "output_type": "stream",
          "name": "stdout",
          "text": [
            "Epoch 30/50 - Loss: 0.6940 - Accuracy: 0.4983\n"
          ]
        },
        {
          "output_type": "stream",
          "name": "stderr",
          "text": [
            "Epoch 31/50: 100%|██████████| 196/196 [01:08<00:00,  2.87it/s, accuracy=tensor(0.4953, device='cuda:0'), loss=0.698]\n"
          ]
        },
        {
          "output_type": "stream",
          "name": "stdout",
          "text": [
            "Epoch 31/50 - Loss: 0.6939 - Accuracy: 0.4953\n"
          ]
        },
        {
          "output_type": "stream",
          "name": "stderr",
          "text": [
            "Epoch 32/50: 100%|██████████| 196/196 [01:08<00:00,  2.87it/s, accuracy=tensor(0.4972, device='cuda:0'), loss=0.697]\n"
          ]
        },
        {
          "output_type": "stream",
          "name": "stdout",
          "text": [
            "Epoch 32/50 - Loss: 0.6940 - Accuracy: 0.4972\n"
          ]
        },
        {
          "output_type": "stream",
          "name": "stderr",
          "text": [
            "Epoch 33/50: 100%|██████████| 196/196 [01:08<00:00,  2.87it/s, accuracy=tensor(0.4978, device='cuda:0'), loss=0.689]\n"
          ]
        },
        {
          "output_type": "stream",
          "name": "stdout",
          "text": [
            "Epoch 33/50 - Loss: 0.6938 - Accuracy: 0.4978\n"
          ]
        },
        {
          "output_type": "stream",
          "name": "stderr",
          "text": [
            "Epoch 34/50: 100%|██████████| 196/196 [01:08<00:00,  2.87it/s, accuracy=tensor(0.5013, device='cuda:0'), loss=0.689]\n"
          ]
        },
        {
          "output_type": "stream",
          "name": "stdout",
          "text": [
            "Epoch 34/50 - Loss: 0.6937 - Accuracy: 0.5013\n"
          ]
        },
        {
          "output_type": "stream",
          "name": "stderr",
          "text": [
            "Epoch 35/50: 100%|██████████| 196/196 [01:08<00:00,  2.87it/s, accuracy=tensor(0.5085, device='cuda:0'), loss=0.694]\n"
          ]
        },
        {
          "output_type": "stream",
          "name": "stdout",
          "text": [
            "Epoch 35/50 - Loss: 0.6933 - Accuracy: 0.5085\n"
          ]
        },
        {
          "output_type": "stream",
          "name": "stderr",
          "text": [
            "Epoch 36/50: 100%|██████████| 196/196 [01:08<00:00,  2.85it/s, accuracy=tensor(0.5123, device='cuda:0'), loss=0.699]\n"
          ]
        },
        {
          "output_type": "stream",
          "name": "stdout",
          "text": [
            "Epoch 36/50 - Loss: 0.6930 - Accuracy: 0.5123\n"
          ]
        },
        {
          "output_type": "stream",
          "name": "stderr",
          "text": [
            "Epoch 37/50: 100%|██████████| 196/196 [01:09<00:00,  2.81it/s, accuracy=tensor(0.5184, device='cuda:0'), loss=0.694]\n"
          ]
        },
        {
          "output_type": "stream",
          "name": "stdout",
          "text": [
            "Epoch 37/50 - Loss: 0.6928 - Accuracy: 0.5184\n"
          ]
        },
        {
          "output_type": "stream",
          "name": "stderr",
          "text": [
            "Epoch 38/50: 100%|██████████| 196/196 [01:08<00:00,  2.86it/s, accuracy=tensor(0.5187, device='cuda:0'), loss=0.692]\n"
          ]
        },
        {
          "output_type": "stream",
          "name": "stdout",
          "text": [
            "Epoch 38/50 - Loss: 0.6926 - Accuracy: 0.5187\n"
          ]
        },
        {
          "output_type": "stream",
          "name": "stderr",
          "text": [
            "Epoch 39/50: 100%|██████████| 196/196 [01:08<00:00,  2.85it/s, accuracy=tensor(0.5204, device='cuda:0'), loss=0.685]\n"
          ]
        },
        {
          "output_type": "stream",
          "name": "stdout",
          "text": [
            "Epoch 39/50 - Loss: 0.6925 - Accuracy: 0.5204\n"
          ]
        },
        {
          "output_type": "stream",
          "name": "stderr",
          "text": [
            "Epoch 40/50: 100%|██████████| 196/196 [01:08<00:00,  2.86it/s, accuracy=tensor(0.5184, device='cuda:0'), loss=0.698]\n"
          ]
        },
        {
          "output_type": "stream",
          "name": "stdout",
          "text": [
            "Epoch 40/50 - Loss: 0.6927 - Accuracy: 0.5184\n"
          ]
        },
        {
          "output_type": "stream",
          "name": "stderr",
          "text": [
            "Epoch 41/50: 100%|██████████| 196/196 [01:09<00:00,  2.82it/s, accuracy=tensor(0.5158, device='cuda:0'), loss=0.687]\n"
          ]
        },
        {
          "output_type": "stream",
          "name": "stdout",
          "text": [
            "Epoch 41/50 - Loss: 0.6930 - Accuracy: 0.5158\n"
          ]
        },
        {
          "output_type": "stream",
          "name": "stderr",
          "text": [
            "Epoch 42/50: 100%|██████████| 196/196 [01:08<00:00,  2.87it/s, accuracy=tensor(0.5201, device='cuda:0'), loss=0.697]\n"
          ]
        },
        {
          "output_type": "stream",
          "name": "stdout",
          "text": [
            "Epoch 42/50 - Loss: 0.6924 - Accuracy: 0.5201\n"
          ]
        },
        {
          "output_type": "stream",
          "name": "stderr",
          "text": [
            "Epoch 43/50: 100%|██████████| 196/196 [01:08<00:00,  2.87it/s, accuracy=tensor(0.5123, device='cuda:0'), loss=0.691]\n"
          ]
        },
        {
          "output_type": "stream",
          "name": "stdout",
          "text": [
            "Epoch 43/50 - Loss: 0.6935 - Accuracy: 0.5123\n"
          ]
        },
        {
          "output_type": "stream",
          "name": "stderr",
          "text": [
            "Epoch 44/50: 100%|██████████| 196/196 [01:08<00:00,  2.88it/s, accuracy=tensor(0.5023, device='cuda:0'), loss=0.69]\n"
          ]
        },
        {
          "output_type": "stream",
          "name": "stdout",
          "text": [
            "Epoch 44/50 - Loss: 0.6941 - Accuracy: 0.5023\n"
          ]
        },
        {
          "output_type": "stream",
          "name": "stderr",
          "text": [
            "Epoch 45/50: 100%|██████████| 196/196 [01:08<00:00,  2.87it/s, accuracy=tensor(0.5025, device='cuda:0'), loss=0.7]\n"
          ]
        },
        {
          "output_type": "stream",
          "name": "stdout",
          "text": [
            "Epoch 45/50 - Loss: 0.6936 - Accuracy: 0.5025\n"
          ]
        },
        {
          "output_type": "stream",
          "name": "stderr",
          "text": [
            "Epoch 46/50: 100%|██████████| 196/196 [01:08<00:00,  2.87it/s, accuracy=tensor(0.5125, device='cuda:0'), loss=0.699]\n"
          ]
        },
        {
          "output_type": "stream",
          "name": "stdout",
          "text": [
            "Epoch 46/50 - Loss: 0.6933 - Accuracy: 0.5125\n"
          ]
        },
        {
          "output_type": "stream",
          "name": "stderr",
          "text": [
            "Epoch 47/50: 100%|██████████| 196/196 [01:08<00:00,  2.87it/s, accuracy=tensor(0.5089, device='cuda:0'), loss=0.689]\n"
          ]
        },
        {
          "output_type": "stream",
          "name": "stdout",
          "text": [
            "Epoch 47/50 - Loss: 0.6935 - Accuracy: 0.5089\n"
          ]
        },
        {
          "output_type": "stream",
          "name": "stderr",
          "text": [
            "Epoch 48/50: 100%|██████████| 196/196 [01:08<00:00,  2.87it/s, accuracy=tensor(0.5017, device='cuda:0'), loss=0.693]\n"
          ]
        },
        {
          "output_type": "stream",
          "name": "stdout",
          "text": [
            "Epoch 48/50 - Loss: 0.6936 - Accuracy: 0.5017\n"
          ]
        },
        {
          "output_type": "stream",
          "name": "stderr",
          "text": [
            "Epoch 49/50: 100%|██████████| 196/196 [01:08<00:00,  2.86it/s, accuracy=tensor(0.5016, device='cuda:0'), loss=0.698]\n"
          ]
        },
        {
          "output_type": "stream",
          "name": "stdout",
          "text": [
            "Epoch 49/50 - Loss: 0.6935 - Accuracy: 0.5016\n"
          ]
        },
        {
          "output_type": "stream",
          "name": "stderr",
          "text": [
            "Epoch 50/50: 100%|██████████| 196/196 [01:08<00:00,  2.86it/s, accuracy=tensor(0.5023, device='cuda:0'), loss=0.694]"
          ]
        },
        {
          "output_type": "stream",
          "name": "stdout",
          "text": [
            "Epoch 50/50 - Loss: 0.6935 - Accuracy: 0.5023\n"
          ]
        },
        {
          "output_type": "stream",
          "name": "stderr",
          "text": [
            "\n"
          ]
        }
      ]
    },
    {
      "cell_type": "code",
      "source": [
        "model.eval()\n",
        "test_sentences = test['Sentence'].values.tolist()\n",
        "test_encodings = tokenizer(\n",
        "    test_sentences,\n",
        "    max_length=15,\n",
        "    truncation=True,\n",
        "    padding='max_length',\n",
        "    return_tensors='pt',\n",
        "    return_attention_mask=True\n",
        ")\n",
        "\n",
        "test_input_ids = test_encodings['input_ids']\n",
        "test_attention_masks = test_encodings['attention_mask']\n",
        "\n",
        "with torch.no_grad():\n",
        "    outputs = model(input_ids=test_input_ids.to(device), attention_mask=test_attention_masks.to(device))\n",
        "    logits = outputs.logits\n",
        "\n",
        "r_accuracy = accuracy_score(true_labels, predictions)\n",
        "r_precision = precision_score(true_labels, predictions, average='weighted')\n",
        "r_recall = recall_score(true_labels, predictions, average='weighted')\n",
        "r_f1 = f1_score(true_labels, predictions, average='weighted')\n",
        "\n",
        "\n",
        "print(f\"Test Accuracy: {r_accuracy:.4f}\")\n",
        "print(f\"Test Precision: {r_precision:.4f}\")\n",
        "print(f\"Test Recall: {r_recall:.4f}\")\n",
        "print(f\"Test F1 Score: {r_f1:.4f}\")"
      ],
      "metadata": {
        "colab": {
          "base_uri": "https://localhost:8080/"
        },
        "id": "ScI2En1GLDbO",
        "outputId": "39d8308a-14e7-4cd3-ebe9-d024d049ef3a"
      },
      "execution_count": 23,
      "outputs": [
        {
          "output_type": "stream",
          "name": "stdout",
          "text": [
            "Test Accuracy: 0.9112\n",
            "Test Precision: 0.9139\n",
            "Test Recall: 0.9112\n",
            "Test F1 Score: 0.9111\n"
          ]
        }
      ]
    },
    {
      "cell_type": "code",
      "source": [
        "print(f\"DistilBERT - Test Accuracy: {d_accuracy:.4f}\")\n",
        "print(f\"DistilBERT - Test Precision: {d_precision:.4f}\")\n",
        "print(f\"DistilBERT - Test Recall: {d_recall:.4f}\")\n",
        "print(f\"DistilBERT - Test F1 Score: {d_f1:.4f}\")\n",
        "\n",
        "\n",
        "print(f\"RoBERTa - Test Accuracy: {r_accuracy:.4f}\")\n",
        "print(f\"RoBERTa - Test Precision: {r_precision:.4f}\")\n",
        "print(f\"RoBERTa - Test Recall: {r_recall:.4f}\")\n",
        "print(f\"RoBERTa - Test F1 Score: {r_f1:.4f}\")\n",
        "\n",
        "\n",
        "print(\"\\nComparison of Models:\")\n",
        "\n",
        "\n",
        "if d_accuracy > r_accuracy:\n",
        "    print(f\"DistilBERT has better accuracy ({d_accuracy:.4f}) compared to RoBERTa ({r_accuracy:.4f}).\")\n",
        "else:\n",
        "    print(f\"RoBERTa has better accuracy ({r_accuracy:.4f}) compared to DistilBERT ({d_accuracy:.4f}).\")\n",
        "\n",
        "\n",
        "if d_precision > r_precision:\n",
        "    print(f\"DistilBERT has better precision ({d_precision:.4f}) compared to RoBERTa ({r_precision:.4f}).\")\n",
        "else:\n",
        "    print(f\"RoBERTa has better precision ({r_precision:.4f}) compared to DistilBERT ({d_precision:.4f}).\")\n",
        "\n",
        "if d_recall > r_recall:\n",
        "    print(f\"DistilBERT has better recall ({d_recall:.4f}) compared to RoBERTa ({r_recall:.4f}).\")\n",
        "else:\n",
        "    print(f\"RoBERTa has better recall ({r_recall:.4f}) compared to DistilBERT ({d_recall:.4f}).\")\n",
        "\n",
        "\n",
        "if d_f1 > r_f1:\n",
        "    print(f\"DistilBERT has better F1 score ({d_f1:.4f}) compared to RoBERTa ({r_f1:.4f}).\")\n",
        "else:\n",
        "    print(f\"RoBERTa has better F1 score ({r_f1:.4f}) compared to DistilBERT ({d_f1:.4f}).\")"
      ],
      "metadata": {
        "colab": {
          "base_uri": "https://localhost:8080/"
        },
        "id": "J4scoSngMSdt",
        "outputId": "8323b078-145c-446f-e2df-c5d64fd8aa4d"
      },
      "execution_count": 24,
      "outputs": [
        {
          "output_type": "stream",
          "name": "stdout",
          "text": [
            "DistilBERT - Test Accuracy: 0.9112\n",
            "DistilBERT - Test Precision: 0.9139\n",
            "DistilBERT - Test Recall: 0.9112\n",
            "DistilBERT - Test F1 Score: 0.9111\n",
            "RoBERTa - Test Accuracy: 0.9112\n",
            "RoBERTa - Test Precision: 0.9139\n",
            "RoBERTa - Test Recall: 0.9112\n",
            "RoBERTa - Test F1 Score: 0.9111\n",
            "\n",
            "Comparison of Models:\n",
            "RoBERTa has better accuracy (0.9112) compared to DistilBERT (0.9112).\n",
            "RoBERTa has better precision (0.9139) compared to DistilBERT (0.9139).\n",
            "RoBERTa has better recall (0.9112) compared to DistilBERT (0.9112).\n",
            "RoBERTa has better F1 score (0.9111) compared to DistilBERT (0.9111).\n"
          ]
        }
      ]
    },
    {
      "cell_type": "markdown",
      "source": [
        "### Заклучок: моделите се  подобри отколку тие во првата задача."
      ],
      "metadata": {
        "id": "mmB0TwLqfUsu"
      }
    }
  ]
}